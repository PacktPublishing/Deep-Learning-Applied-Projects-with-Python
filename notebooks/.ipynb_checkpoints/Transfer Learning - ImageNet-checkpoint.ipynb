{
 "cells": [
  {
   "cell_type": "code",
   "execution_count": 1,
   "metadata": {
    "collapsed": false
   },
   "outputs": [
    {
     "name": "stderr",
     "output_type": "stream",
     "text": [
      "Using TensorFlow backend.\n"
     ]
    }
   ],
   "source": [
    "from keras.applications.resnet50 import ResNet50\n",
    "from keras.preprocessing import image\n",
    "from keras.applications.resnet50 import preprocess_input, decode_predictions\n",
    "import numpy as np\n",
    "import matplotlib.pyplot as plt\n",
    "%matplotlib inline\n",
    "from tqdm import tqdm\n",
    "\n",
    "model = ResNet50(weights='imagenet')"
   ]
  },
  {
   "cell_type": "code",
   "execution_count": 2,
   "metadata": {
    "collapsed": false
   },
   "outputs": [
    {
     "name": "stdout",
     "output_type": "stream",
     "text": [
      "175\n",
      "189\n"
     ]
    }
   ],
   "source": [
    "import glob\n",
    "\n",
    "elephants = glob.glob(\"../images_train/african_elephant/*.jpg\")\n",
    "zebras = glob.glob(\"../images_train/african_zebra/*.jpg\")\n",
    "print(len(elephants))\n",
    "print(len(zebras))"
   ]
  },
  {
   "cell_type": "code",
   "execution_count": 3,
   "metadata": {
    "collapsed": false
   },
   "outputs": [
    {
     "name": "stderr",
     "output_type": "stream",
     "text": [
      "100%|██████████| 175/175 [00:52<00:00,  3.48it/s]\n",
      "100%|██████████| 189/189 [00:59<00:00,  3.48it/s]\n"
     ]
    }
   ],
   "source": [
    "e_preds = {}\n",
    "\n",
    "for e in tqdm(elephants):\n",
    "    img = image.load_img(e, target_size=(224, 224))\n",
    "    x = image.img_to_array(img)\n",
    "    x = np.expand_dims(x, axis=0)\n",
    "    x = preprocess_input(x)\n",
    "    preds = model.predict(x)\n",
    "    e_preds[e] = decode_predictions(preds, top=5)[0]\n",
    "    \n",
    "z_preds = {}\n",
    "\n",
    "for z in tqdm(zebras):\n",
    "    img = image.load_img(z, target_size=(224, 224))\n",
    "    x = image.img_to_array(img)\n",
    "    x = np.expand_dims(x, axis=0)\n",
    "    x = preprocess_input(x)\n",
    "    preds = model.predict(x)\n",
    "    z_preds[z] = decode_predictions(preds, top=5)[0]"
   ]
  },
  {
   "cell_type": "code",
   "execution_count": 4,
   "metadata": {
    "collapsed": false
   },
   "outputs": [
    {
     "data": {
      "text/plain": [
       "[('n01871265', 'tusker', 0.4640497),\n",
       " ('n02504458', 'African_elephant', 0.4039115),\n",
       " ('n02504013', 'Indian_elephant', 0.13127163),\n",
       " ('n02410509', 'bison', 0.00026752619),\n",
       " ('n01616318', 'vulture', 9.7725562e-05)]"
      ]
     },
     "execution_count": 4,
     "metadata": {},
     "output_type": "execute_result"
    }
   ],
   "source": [
    "e_preds['../images_train/african_elephant/african_elephant_1.jpg']"
   ]
  },
  {
   "cell_type": "code",
   "execution_count": 5,
   "metadata": {
    "collapsed": false
   },
   "outputs": [
    {
     "data": {
      "text/plain": [
       "[('n02391049', 'zebra', 0.99943119),\n",
       " ('n02422106', 'hartebeest', 0.00027792915),\n",
       " ('n02423022', 'gazelle', 0.00010502134),\n",
       " ('n01798484', 'prairie_chicken', 7.2370553e-05),\n",
       " ('n02129604', 'tiger', 3.8357895e-05)]"
      ]
     },
     "execution_count": 5,
     "metadata": {},
     "output_type": "execute_result"
    }
   ],
   "source": [
    "z_preds['../images_train/african_zebra/african_zebra_1.jpg']"
   ]
  },
  {
   "cell_type": "code",
   "execution_count": 6,
   "metadata": {
    "collapsed": false
   },
   "outputs": [],
   "source": [
    "def eval_elephant(predicted_result):\n",
    "    outcome = False\n",
    "    for val in predicted_result:\n",
    "        if \"elephant\" in val[1]:\n",
    "            outcome = True\n",
    "    return outcome\n",
    "        \n",
    "def eval_zebra(predicted_result):\n",
    "    outcome = False\n",
    "    for val in predicted_result:\n",
    "        if \"zebra\" in val[1]:\n",
    "            outcome = True\n",
    "    return outcome"
   ]
  },
  {
   "cell_type": "code",
   "execution_count": 7,
   "metadata": {
    "collapsed": false
   },
   "outputs": [],
   "source": [
    "e_preds_outcomes = {k: eval_elephant(v) for k,v in e_preds.items()}\n",
    "z_preds_outcomes = {k: eval_zebra(v) for k,v in z_preds.items()}"
   ]
  },
  {
   "cell_type": "code",
   "execution_count": 8,
   "metadata": {
    "collapsed": false
   },
   "outputs": [
    {
     "data": {
      "text/plain": [
       "0.97142857142857142"
      ]
     },
     "execution_count": 8,
     "metadata": {},
     "output_type": "execute_result"
    }
   ],
   "source": [
    "np.mean(list(e_preds_outcomes.values()))"
   ]
  },
  {
   "cell_type": "code",
   "execution_count": 9,
   "metadata": {
    "collapsed": false
   },
   "outputs": [
    {
     "data": {
      "text/plain": [
       "0.95238095238095233"
      ]
     },
     "execution_count": 9,
     "metadata": {},
     "output_type": "execute_result"
    }
   ],
   "source": [
    "np.mean(list(z_preds_outcomes.values()))"
   ]
  },
  {
   "cell_type": "code",
   "execution_count": null,
   "metadata": {
    "collapsed": true
   },
   "outputs": [],
   "source": []
  },
  {
   "cell_type": "code",
   "execution_count": null,
   "metadata": {
    "collapsed": true
   },
   "outputs": [],
   "source": []
  }
 ],
 "metadata": {
  "anaconda-cloud": {},
  "kernelspec": {
   "display_name": "Python [default]",
   "language": "python",
   "name": "python3"
  },
  "language_info": {
   "codemirror_mode": {
    "name": "ipython",
    "version": 3
   },
   "file_extension": ".py",
   "mimetype": "text/x-python",
   "name": "python",
   "nbconvert_exporter": "python",
   "pygments_lexer": "ipython3",
   "version": "3.5.2"
  }
 },
 "nbformat": 4,
 "nbformat_minor": 1
}
