{
 "cells": [
  {
   "cell_type": "code",
   "execution_count": 5,
   "metadata": {
    "collapsed": false
   },
   "outputs": [],
   "source": [
    "from keras.applications.resnet50 import ResNet50\n",
    "from keras.preprocessing import image\n",
    "from keras.applications.resnet50 import preprocess_input, decode_predictions\n",
    "import numpy as np\n",
    "import matplotlib.pyplot as plt\n",
    "%matplotlib inline\n",
    "from tqdm import tqdm\n",
    "\n",
    "model = ResNet50(weights='imagenet')"
   ]
  },
  {
   "cell_type": "code",
   "execution_count": 6,
   "metadata": {
    "collapsed": false
   },
   "outputs": [
    {
     "name": "stdout",
     "output_type": "stream",
     "text": [
      "175\n",
      "189\n"
     ]
    }
   ],
   "source": [
    "import glob\n",
    "\n",
    "elephants = glob.glob(\"../images_train/african_elephant/*.jpg\")\n",
    "zebras = glob.glob(\"../images_train/african_zebra/*.jpg\")\n",
    "all_images = elephants + zebras\n",
    "print(len(elephants))\n",
    "print(len(zebras))"
   ]
  },
  {
   "cell_type": "code",
   "execution_count": 7,
   "metadata": {
    "collapsed": true
   },
   "outputs": [],
   "source": [
    "def generate_features(some_image):\n",
    "    img = image.load_img(some_image, target_size=(224, 224))\n",
    "    x = image.img_to_array(img)\n",
    "    x = np.expand_dims(x, axis=0)\n",
    "    x = preprocess_input(x)\n",
    "    features = model.predict(x)\n",
    "    return features"
   ]
  },
  {
   "cell_type": "code",
   "execution_count": 104,
   "metadata": {
    "collapsed": false
   },
   "outputs": [
    {
     "name": "stderr",
     "output_type": "stream",
     "text": [
      "100%|██████████| 364/364 [01:52<00:00,  3.34it/s]\n"
     ]
    },
    {
     "data": {
      "text/html": [
       "<div>\n",
       "<table border=\"1\" class=\"dataframe\">\n",
       "  <thead>\n",
       "    <tr style=\"text-align: right;\">\n",
       "      <th></th>\n",
       "      <th>image</th>\n",
       "      <th>feature</th>\n",
       "    </tr>\n",
       "  </thead>\n",
       "  <tbody>\n",
       "    <tr>\n",
       "      <th>0</th>\n",
       "      <td>../images_train/african_elephant/african_eleph...</td>\n",
       "      <td>[[5.3644e-06, 1.03286e-08, 2.63065e-08, 2.3738...</td>\n",
       "    </tr>\n",
       "    <tr>\n",
       "      <th>1</th>\n",
       "      <td>../images_train/african_elephant/african_eleph...</td>\n",
       "      <td>[[7.79265e-07, 2.88982e-08, 1.92784e-08, 9.830...</td>\n",
       "    </tr>\n",
       "    <tr>\n",
       "      <th>2</th>\n",
       "      <td>../images_train/african_elephant/african_eleph...</td>\n",
       "      <td>[[1.71448e-10, 2.89925e-12, 5.80172e-11, 4.782...</td>\n",
       "    </tr>\n",
       "    <tr>\n",
       "      <th>3</th>\n",
       "      <td>../images_train/african_elephant/african_eleph...</td>\n",
       "      <td>[[1.20412e-09, 1.42676e-11, 2.64773e-11, 6.912...</td>\n",
       "    </tr>\n",
       "    <tr>\n",
       "      <th>4</th>\n",
       "      <td>../images_train/african_elephant/african_eleph...</td>\n",
       "      <td>[[2.00127e-08, 9.86225e-09, 1.04519e-07, 3.291...</td>\n",
       "    </tr>\n",
       "  </tbody>\n",
       "</table>\n",
       "</div>"
      ],
      "text/plain": [
       "                                               image  \\\n",
       "0  ../images_train/african_elephant/african_eleph...   \n",
       "1  ../images_train/african_elephant/african_eleph...   \n",
       "2  ../images_train/african_elephant/african_eleph...   \n",
       "3  ../images_train/african_elephant/african_eleph...   \n",
       "4  ../images_train/african_elephant/african_eleph...   \n",
       "\n",
       "                                             feature  \n",
       "0  [[5.3644e-06, 1.03286e-08, 2.63065e-08, 2.3738...  \n",
       "1  [[7.79265e-07, 2.88982e-08, 1.92784e-08, 9.830...  \n",
       "2  [[1.71448e-10, 2.89925e-12, 5.80172e-11, 4.782...  \n",
       "3  [[1.20412e-09, 1.42676e-11, 2.64773e-11, 6.912...  \n",
       "4  [[2.00127e-08, 9.86225e-09, 1.04519e-07, 3.291...  "
      ]
     },
     "execution_count": 104,
     "metadata": {},
     "output_type": "execute_result"
    }
   ],
   "source": [
    "import pandas as pd\n",
    "\n",
    "features = {}\n",
    "_features = []\n",
    "\n",
    "for img in tqdm(all_images):\n",
    "    _f = generate_features(img)\n",
    "    features[img] = _f\n",
    "    _features.append(_f)\n",
    "    \n",
    "\n",
    "df = pd.DataFrame(list(features.items()))\n",
    "df.columns = ['image', 'feature']\n",
    "df.head()"
   ]
  },
  {
   "cell_type": "code",
   "execution_count": 105,
   "metadata": {
    "collapsed": false
   },
   "outputs": [
    {
     "data": {
      "text/plain": [
       "(364, 1000)"
      ]
     },
     "execution_count": 105,
     "metadata": {},
     "output_type": "execute_result"
    }
   ],
   "source": [
    "sdf = np.array(_features).squeeze()\n",
    "sdf.shape"
   ]
  },
  {
   "cell_type": "code",
   "execution_count": 109,
   "metadata": {
    "collapsed": false
   },
   "outputs": [],
   "source": [
    "from sklearn.metrics.pairwise import pairwise_distances\n",
    "import numpy as np"
   ]
  },
  {
   "cell_type": "code",
   "execution_count": 107,
   "metadata": {
    "collapsed": false
   },
   "outputs": [],
   "source": [
    "feature_dist = pairwise_distances(sdf)"
   ]
  },
  {
   "cell_type": "code",
   "execution_count": 108,
   "metadata": {
    "collapsed": false
   },
   "outputs": [
    {
     "data": {
      "text/plain": [
       "array([ 0.        ,  0.65865284,  0.20864527,  0.10100623,  0.09791957,\n",
       "        0.3170611 ,  0.57102191,  0.38306683,  0.46971551,  0.47625941,\n",
       "        0.56169397,  0.59606969,  0.42039618,  0.36048573,  0.11829237,\n",
       "        0.4812327 ,  0.88492984,  0.84420758,  0.4099313 ,  0.39473152,\n",
       "        0.50135666,  0.50287312,  0.9126507 ,  0.3575871 ,  0.34306219,\n",
       "        0.45470357,  0.71619362,  0.6963402 ,  0.96142381,  0.09984785,\n",
       "        0.43247235,  0.38142017,  0.25946894,  0.30415556,  0.61636585,\n",
       "        0.90175021,  0.8489033 ,  0.36800578,  0.69539464,  0.24282905,\n",
       "        0.06326682,  0.39509195,  0.53752565,  0.5933612 ,  0.24233161,\n",
       "        0.60583216,  0.78082883,  0.26411423,  0.28854164,  0.39834681,\n",
       "        0.69457853,  0.2022077 ,  1.01721823,  0.26911652,  0.50458163,\n",
       "        0.5915609 ,  1.15800786,  0.51910597,  0.46183303,  0.13798979,\n",
       "        0.57643378,  0.46628073,  0.07837427,  0.53954738,  0.4717719 ,\n",
       "        0.63098174,  0.61454481,  0.41554162,  0.36862096,  0.50973368,\n",
       "        0.71536148,  0.20406732,  0.59346139,  0.41633165,  0.51623392,\n",
       "        0.58177447,  0.32497784,  0.10085623,  0.12716985,  0.41432497,\n",
       "        0.27036268,  0.21351546,  0.68834907,  0.20893154,  0.29476824,\n",
       "        0.61447012,  0.29524475,  0.36287975,  0.63429302,  0.41811436,\n",
       "        0.48088285,  0.12802307,  0.41592801,  0.44495231,  0.32126597,\n",
       "        0.64577121,  0.09447864,  0.44139767,  0.51970226,  0.52842855,\n",
       "        0.09302078,  0.2868163 ,  0.91970092,  0.55619121,  0.88418096,\n",
       "        0.50375032,  0.15591854,  0.96662349,  0.65655172,  0.73228955,\n",
       "        0.59354156,  0.54904163,  0.32196105,  0.48996499,  0.19708002,\n",
       "        0.40587693,  0.58870989,  0.2756139 ,  0.36673805,  0.35765502,\n",
       "        0.13793513,  0.19100201,  0.62222117,  0.07479534,  0.2679387 ,\n",
       "        0.18335871,  0.6178779 ,  0.28330061,  0.64503372,  0.49688742,\n",
       "        0.3477028 ,  0.19036481,  0.50774974,  0.5621447 ,  0.19171259,\n",
       "        0.63761812,  0.49635026,  0.39773229,  0.23478168,  0.84522104,\n",
       "        0.07318031,  0.44105145,  0.72467721,  0.25846657,  0.61790866,\n",
       "        0.40574279,  0.21109717,  0.20702347,  0.11995953,  0.35611391,\n",
       "        0.89443642,  0.1379723 ,  0.15640061,  0.27664635,  0.81619102,\n",
       "        0.60355264,  0.10571966,  0.37846667,  0.42114714,  1.04944408,\n",
       "        0.46960992,  0.32580081,  0.59738088,  0.42442134,  0.19992822,\n",
       "        0.14742506,  0.28027222,  0.39648816,  0.50177205,  0.41410324,\n",
       "        1.07258523,  0.67989182,  0.22364435,  0.44148874,  0.42338321,\n",
       "        1.18091977,  1.18122423,  1.17998421,  0.99108142,  1.17686558,\n",
       "        1.17976296,  1.17978466,  1.18067622,  1.18095589,  1.17870164,\n",
       "        1.17885137,  0.7731173 ,  1.17552686,  1.17717028,  1.17966998,\n",
       "        0.95750254,  1.18139374,  1.18097687,  1.17787492,  1.17909443,\n",
       "        1.17763114,  1.06715965,  1.18103933,  1.1791383 ,  1.17712831,\n",
       "        1.16807663,  1.18115199,  1.18026996,  1.12719297,  1.17988956,\n",
       "        1.17847109,  1.18114471,  1.16408098,  1.17929769,  1.17846107,\n",
       "        1.1813798 ,  1.17863178,  1.17756498,  1.18107402,  1.18128824,\n",
       "        1.18129611,  1.18120396,  1.1805476 ,  1.18055427,  1.17298317,\n",
       "        1.17992413,  1.13872838,  1.00306618,  0.80840474,  1.17901659,\n",
       "        1.17848563,  1.17995715,  1.17417121,  1.17413485,  1.09956563,\n",
       "        1.16253352,  1.17491412,  1.09817231,  1.15973842,  1.16382015,\n",
       "        1.1797142 ,  1.1812346 ,  1.17985857,  1.18071854,  1.09699655,\n",
       "        1.15645742,  1.16556847,  1.16815364,  1.1811235 ,  1.18107069,\n",
       "        1.17538857,  1.16467154,  0.78936225,  1.18070543,  1.13117015,\n",
       "        1.18099952,  1.18116391,  1.17640722,  1.18019533,  1.17805111,\n",
       "        1.17678392,  0.79155052,  1.18068004,  0.68120241,  1.18128264,\n",
       "        1.17422295,  1.18043792,  1.03309131,  1.17443383,  1.15122116,\n",
       "        0.9401353 ,  1.02173519,  0.71324015,  0.90745133,  1.15926874,\n",
       "        0.86635566,  1.18121457,  1.16512108,  0.99594557,  1.18026638,\n",
       "        1.18033087,  0.82552749,  1.18124783,  1.18097222,  1.17676723,\n",
       "        0.70388424,  0.75579768,  1.18089032,  1.18108356,  0.89545161,\n",
       "        1.18050921,  1.17969871,  1.05562127,  1.14289951,  1.18091643,\n",
       "        1.15161252,  1.18135548,  1.16571212,  1.03568125,  1.12519884,\n",
       "        1.10302985,  0.18965861,  0.36640674,  1.17823899,  1.11584318,\n",
       "        1.1806109 ,  1.17692339,  0.65177894,  0.65554374,  1.17615533,\n",
       "        1.17761385,  1.17944896,  1.18134499,  1.08107936,  1.18118131,\n",
       "        1.1705246 ,  1.17797685,  1.18072176,  1.18130827,  1.17907679,\n",
       "        1.18010402,  1.16153598,  1.17149782,  1.18132067,  1.10015547,\n",
       "        1.18128121,  1.17144859,  1.15911007,  1.17857575,  1.17978001,\n",
       "        1.1802578 ,  1.16656637,  1.17865145,  1.17759216,  1.11915493,\n",
       "        0.70868403,  1.17573464,  0.92522281,  0.94929916,  0.7814787 ,\n",
       "        1.15432525,  1.18107355,  1.12906706,  1.15970254,  1.17299259,\n",
       "        1.18120241,  1.18092191,  0.88658941,  1.06633723,  1.17683339,\n",
       "        1.18083155,  1.09696233,  1.18109369,  1.17885435,  1.18080235,\n",
       "        1.05983198,  0.68955976,  1.10032582,  1.17569089,  1.17427611,\n",
       "        1.17598605,  0.71211475,  0.67031211,  1.18102539,  1.17996633,\n",
       "        1.18021452,  1.18010211,  1.0670774 ,  1.17700958], dtype=float32)"
      ]
     },
     "execution_count": 108,
     "metadata": {},
     "output_type": "execute_result"
    }
   ],
   "source": [
    "feature_dist[0]"
   ]
  },
  {
   "cell_type": "code",
   "execution_count": null,
   "metadata": {
    "collapsed": false
   },
   "outputs": [],
   "source": []
  },
  {
   "cell_type": "code",
   "execution_count": null,
   "metadata": {
    "collapsed": false
   },
   "outputs": [],
   "source": []
  },
  {
   "cell_type": "code",
   "execution_count": null,
   "metadata": {
    "collapsed": true
   },
   "outputs": [],
   "source": []
  }
 ],
 "metadata": {
  "anaconda-cloud": {},
  "kernelspec": {
   "display_name": "Python [default]",
   "language": "python",
   "name": "python3"
  },
  "language_info": {
   "codemirror_mode": {
    "name": "ipython",
    "version": 3
   },
   "file_extension": ".py",
   "mimetype": "text/x-python",
   "name": "python",
   "nbconvert_exporter": "python",
   "pygments_lexer": "ipython3",
   "version": "3.5.2"
  }
 },
 "nbformat": 4,
 "nbformat_minor": 1
}
