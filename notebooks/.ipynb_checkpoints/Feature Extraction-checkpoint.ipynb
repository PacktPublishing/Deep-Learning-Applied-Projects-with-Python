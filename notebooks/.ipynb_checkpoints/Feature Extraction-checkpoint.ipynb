{
 "cells": [
  {
   "cell_type": "code",
   "execution_count": 5,
   "metadata": {
    "collapsed": false
   },
   "outputs": [],
   "source": [
    "from keras.applications.resnet50 import ResNet50\n",
    "from keras.preprocessing import image\n",
    "from keras.applications.resnet50 import preprocess_input, decode_predictions\n",
    "import numpy as np\n",
    "import matplotlib.pyplot as plt\n",
    "%matplotlib inline\n",
    "from tqdm import tqdm\n",
    "\n",
    "model = ResNet50(weights='imagenet')"
   ]
  },
  {
   "cell_type": "code",
   "execution_count": 6,
   "metadata": {
    "collapsed": false
   },
   "outputs": [
    {
     "name": "stdout",
     "output_type": "stream",
     "text": [
      "175\n",
      "189\n"
     ]
    }
   ],
   "source": [
    "import glob\n",
    "\n",
    "elephants = glob.glob(\"../images_train/african_elephant/*.jpg\")\n",
    "zebras = glob.glob(\"../images_train/african_zebra/*.jpg\")\n",
    "all_images = elephants + zebras\n",
    "print(len(elephants))\n",
    "print(len(zebras))"
   ]
  },
  {
   "cell_type": "code",
   "execution_count": 7,
   "metadata": {
    "collapsed": true
   },
   "outputs": [],
   "source": [
    "def generate_features(some_image):\n",
    "    img = image.load_img(some_image, target_size=(224, 224))\n",
    "    x = image.img_to_array(img)\n",
    "    x = np.expand_dims(x, axis=0)\n",
    "    x = preprocess_input(x)\n",
    "    features = model.predict(x)\n",
    "    return features"
   ]
  },
  {
   "cell_type": "code",
   "execution_count": 104,
   "metadata": {
    "collapsed": false
   },
   "outputs": [
    {
     "name": "stderr",
     "output_type": "stream",
     "text": [
      "100%|██████████| 364/364 [01:52<00:00,  3.34it/s]\n"
     ]
    },
    {
     "data": {
      "text/html": [
       "<div>\n",
       "<table border=\"1\" class=\"dataframe\">\n",
       "  <thead>\n",
       "    <tr style=\"text-align: right;\">\n",
       "      <th></th>\n",
       "      <th>image</th>\n",
       "      <th>feature</th>\n",
       "    </tr>\n",
       "  </thead>\n",
       "  <tbody>\n",
       "    <tr>\n",
       "      <th>0</th>\n",
       "      <td>../images_train/african_elephant/african_eleph...</td>\n",
       "      <td>[[5.3644e-06, 1.03286e-08, 2.63065e-08, 2.3738...</td>\n",
       "    </tr>\n",
       "    <tr>\n",
       "      <th>1</th>\n",
       "      <td>../images_train/african_elephant/african_eleph...</td>\n",
       "      <td>[[7.79265e-07, 2.88982e-08, 1.92784e-08, 9.830...</td>\n",
       "    </tr>\n",
       "    <tr>\n",
       "      <th>2</th>\n",
       "      <td>../images_train/african_elephant/african_eleph...</td>\n",
       "      <td>[[1.71448e-10, 2.89925e-12, 5.80172e-11, 4.782...</td>\n",
       "    </tr>\n",
       "    <tr>\n",
       "      <th>3</th>\n",
       "      <td>../images_train/african_elephant/african_eleph...</td>\n",
       "      <td>[[1.20412e-09, 1.42676e-11, 2.64773e-11, 6.912...</td>\n",
       "    </tr>\n",
       "    <tr>\n",
       "      <th>4</th>\n",
       "      <td>../images_train/african_elephant/african_eleph...</td>\n",
       "      <td>[[2.00127e-08, 9.86225e-09, 1.04519e-07, 3.291...</td>\n",
       "    </tr>\n",
       "  </tbody>\n",
       "</table>\n",
       "</div>"
      ],
      "text/plain": [
       "                                               image  \\\n",
       "0  ../images_train/african_elephant/african_eleph...   \n",
       "1  ../images_train/african_elephant/african_eleph...   \n",
       "2  ../images_train/african_elephant/african_eleph...   \n",
       "3  ../images_train/african_elephant/african_eleph...   \n",
       "4  ../images_train/african_elephant/african_eleph...   \n",
       "\n",
       "                                             feature  \n",
       "0  [[5.3644e-06, 1.03286e-08, 2.63065e-08, 2.3738...  \n",
       "1  [[7.79265e-07, 2.88982e-08, 1.92784e-08, 9.830...  \n",
       "2  [[1.71448e-10, 2.89925e-12, 5.80172e-11, 4.782...  \n",
       "3  [[1.20412e-09, 1.42676e-11, 2.64773e-11, 6.912...  \n",
       "4  [[2.00127e-08, 9.86225e-09, 1.04519e-07, 3.291...  "
      ]
     },
     "execution_count": 104,
     "metadata": {},
     "output_type": "execute_result"
    }
   ],
   "source": [
    "import pandas as pd\n",
    "\n",
    "features = {}\n",
    "_features = []\n",
    "\n",
    "for img in tqdm(all_images):\n",
    "    _f = generate_features(img)\n",
    "    features[img] = _f\n",
    "    _features.append(_f)\n",
    "    \n",
    "\n",
    "df = pd.DataFrame(list(features.items()))\n",
    "df.columns = ['image', 'feature']\n",
    "df.head()"
   ]
  },
  {
   "cell_type": "code",
   "execution_count": 105,
   "metadata": {
    "collapsed": false
   },
   "outputs": [
    {
     "data": {
      "text/plain": [
       "(364, 1000)"
      ]
     },
     "execution_count": 105,
     "metadata": {},
     "output_type": "execute_result"
    }
   ],
   "source": [
    "sdf = np.array(_features).squeeze()\n",
    "sdf.shape"
   ]
  },
  {
   "cell_type": "code",
   "execution_count": 100,
   "metadata": {
    "collapsed": false
   },
   "outputs": [],
   "source": [
    "from sklearn.metrics.pairwise import pairwise_distances"
   ]
  },
  {
   "cell_type": "code",
   "execution_count": 106,
   "metadata": {
    "collapsed": false
   },
   "outputs": [
    {
     "data": {
      "text/plain": [
       "(364, 364)"
      ]
     },
     "execution_count": 106,
     "metadata": {},
     "output_type": "execute_result"
    }
   ],
   "source": [
    "pairwise_distances(sdf).shape"
   ]
  },
  {
   "cell_type": "code",
   "execution_count": 70,
   "metadata": {
    "collapsed": false
   },
   "outputs": [
    {
     "data": {
      "text/plain": [
       "(1000,)"
      ]
     },
     "execution_count": 70,
     "metadata": {},
     "output_type": "execute_result"
    }
   ],
   "source": [
    "df.feature.values.tolist()[0].shape"
   ]
  },
  {
   "cell_type": "code",
   "execution_count": null,
   "metadata": {
    "collapsed": false
   },
   "outputs": [],
   "source": []
  },
  {
   "cell_type": "code",
   "execution_count": null,
   "metadata": {
    "collapsed": false
   },
   "outputs": [],
   "source": []
  },
  {
   "cell_type": "code",
   "execution_count": null,
   "metadata": {
    "collapsed": true
   },
   "outputs": [],
   "source": []
  }
 ],
 "metadata": {
  "anaconda-cloud": {},
  "kernelspec": {
   "display_name": "Python [default]",
   "language": "python",
   "name": "python3"
  },
  "language_info": {
   "codemirror_mode": {
    "name": "ipython",
    "version": 3
   },
   "file_extension": ".py",
   "mimetype": "text/x-python",
   "name": "python",
   "nbconvert_exporter": "python",
   "pygments_lexer": "ipython3",
   "version": "3.5.2"
  }
 },
 "nbformat": 4,
 "nbformat_minor": 1
}
