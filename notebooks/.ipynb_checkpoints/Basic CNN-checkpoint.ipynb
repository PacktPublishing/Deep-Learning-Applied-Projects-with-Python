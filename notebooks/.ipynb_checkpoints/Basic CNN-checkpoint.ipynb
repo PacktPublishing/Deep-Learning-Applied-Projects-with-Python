{
 "cells": [
  {
   "cell_type": "code",
   "execution_count": 6,
   "metadata": {
    "collapsed": false
   },
   "outputs": [],
   "source": [
    "from keras.preprocessing.image import ImageDataGenerator\n",
    "from keras.models import Sequential\n",
    "from keras.layers import Convolution2D, MaxPooling2D\n",
    "from keras.layers import Activation, Dropout, Flatten, Dense"
   ]
  },
  {
   "cell_type": "code",
   "execution_count": null,
   "metadata": {
    "collapsed": false
   },
   "outputs": [
    {
     "name": "stdout",
     "output_type": "stream",
     "text": [
      "Found 364 images belonging to 2 classes.\n",
      "Found 131 images belonging to 2 classes.\n"
     ]
    },
    {
     "name": "stderr",
     "output_type": "stream",
     "text": [
      "/Users/jeff/anaconda/lib/python3.5/site-packages/ipykernel/__main__.py:61: UserWarning: Update your `fit_generator` call to the Keras 2 API: `fit_generator(<keras.pre..., steps_per_epoch=6, validation_data=<keras.pre..., epochs=20, validation_steps=50)`\n"
     ]
    },
    {
     "name": "stdout",
     "output_type": "stream",
     "text": [
      "Epoch 1/20\n",
      "6/6 [==============================] - 16s - loss: 0.6487 - acc: 0.6354 - val_loss: 0.6118 - val_acc: 0.4733\n",
      "Epoch 2/20\n",
      "6/6 [==============================] - 13s - loss: 0.5432 - acc: 0.7267 - val_loss: 0.3644 - val_acc: 0.9160\n",
      "Epoch 3/20\n",
      "6/6 [==============================] - 14s - loss: 0.4035 - acc: 0.8333 - val_loss: 0.4780 - val_acc: 0.7786\n",
      "Epoch 4/20\n",
      "6/6 [==============================] - 13s - loss: 0.5126 - acc: 0.7743 - val_loss: 0.3562 - val_acc: 0.8626\n",
      "Epoch 5/20\n",
      "6/6 [==============================] - 14s - loss: 0.4148 - acc: 0.8594 - val_loss: 0.2731 - val_acc: 0.9313\n",
      "Epoch 6/20\n",
      "5/6 [========================>.....] - ETA: 0s - loss: 0.3396 - acc: 0.8562"
     ]
    }
   ],
   "source": [
    "# dimensions of our images.\n",
    "img_width, img_height = 150, 150\n",
    "\n",
    "train_data_dir = '../images_train/'\n",
    "validation_data_dir = '../images_valid/'\n",
    "nb_train_samples = 200\n",
    "nb_validation_samples = 50\n",
    "\n",
    "\n",
    "model = Sequential()\n",
    "model.add(Convolution2D(32,( 3, 3), input_shape=(img_width, img_height, 3)))\n",
    "model.add(Activation('relu'))\n",
    "model.add(MaxPooling2D(pool_size=(2, 2)))\n",
    "\n",
    "model.add(Convolution2D(32, (3, 3)))\n",
    "model.add(Activation('relu'))\n",
    "model.add(MaxPooling2D(pool_size=(2, 2)))\n",
    "\n",
    "model.add(Convolution2D(64, (3, 3)))\n",
    "model.add(Activation('relu'))\n",
    "model.add(MaxPooling2D(pool_size=(2, 2)))\n",
    "\n",
    "model.add(Flatten())\n",
    "model.add(Dense(64))\n",
    "model.add(Activation('relu'))\n",
    "model.add(Dropout(0.5))\n",
    "model.add(Dense(1))\n",
    "model.add(Activation('sigmoid'))\n",
    "\n",
    "model.compile(loss='binary_crossentropy',\n",
    "              optimizer='adam', metrics=['accuracy'])\n",
    "\n",
    "\n",
    "# this is the augmentation configuration we will use for training\n",
    "train_datagen = ImageDataGenerator(\n",
    "        rescale=1./255,\n",
    "        shear_range=0.2,\n",
    "        zoom_range=0.2,\n",
    "        horizontal_flip=True)\n",
    "\n",
    "# this is the augmentation configuration we will use for testing:\n",
    "# only rescaling\n",
    "test_datagen = ImageDataGenerator(rescale=1./255)\n",
    "\n",
    "train_generator = train_datagen.flow_from_directory(\n",
    "        train_data_dir,\n",
    "        target_size=(img_width, img_height),\n",
    "        batch_size=32,\n",
    "        class_mode='binary')\n",
    "\n",
    "validation_generator = test_datagen.flow_from_directory(\n",
    "        validation_data_dir,\n",
    "        target_size=(img_width, img_height),\n",
    "        batch_size=32,\n",
    "        class_mode='binary')\n",
    "\n",
    "\n",
    "# Early Stopping and Model Save Arguments\n",
    "model.fit_generator(\n",
    "        train_generator,\n",
    "        samples_per_epoch=nb_train_samples,\n",
    "        nb_epoch=20,\n",
    "        validation_data=validation_generator, nb_val_samples=nb_validation_samples)"
   ]
  },
  {
   "cell_type": "code",
   "execution_count": 15,
   "metadata": {
    "collapsed": false
   },
   "outputs": [
    {
     "name": "stdout",
     "output_type": "stream",
     "text": [
      "../images_train:\r\n",
      "\u001b[34mafrican_elephant\u001b[m\u001b[m/ \u001b[34mafrican_zebra\u001b[m\u001b[m/\r\n",
      "\r\n",
      "../images_valid:\r\n",
      "\u001b[34mafrican_elephant\u001b[m\u001b[m/ \u001b[34mafrican_zebra\u001b[m\u001b[m/\r\n"
     ]
    }
   ],
   "source": [
    "%ls ../*images_*"
   ]
  },
  {
   "cell_type": "code",
   "execution_count": 17,
   "metadata": {
    "collapsed": false
   },
   "outputs": [],
   "source": [
    "# Split the data up into training and validation sets\n",
    "# Deliberately not DRY'd up, for illustrative purposes\n",
    "\n",
    "import os\n",
    "import shutil\n",
    "import numpy as np\n",
    "\n",
    "elephant_source = \"../images_train/african_elephant/\"\n",
    "elephant_dest = \"../images_valid/african_elephant/\"\n",
    "elephant_files = os.listdir(elephant_source)\n",
    "\n",
    "zebra_source = \"../images_train/african_zebra/\"\n",
    "zebra_est = \"../images_valid/african_zebra/\"\n",
    "zebra_files = os.listdir(zebra_source)\n",
    "\n",
    "# Handle the elephants\n",
    "for f in elephant_files:\n",
    "    if np.random.rand(1) < 0.25:\n",
    "        shutil.move(elephant_source + '/'+ f, elephant_dest + '/'+ f)"
   ]
  },
  {
   "cell_type": "code",
   "execution_count": 19,
   "metadata": {
    "collapsed": false
   },
   "outputs": [],
   "source": [
    "for f in zebra_files:\n",
    "    if np.random.rand(1) < 0.25:\n",
    "        shutil.move(zebra_source + '/'+ f, zebra_est + '/'+ f)"
   ]
  },
  {
   "cell_type": "code",
   "execution_count": null,
   "metadata": {
    "collapsed": true
   },
   "outputs": [],
   "source": []
  }
 ],
 "metadata": {
  "anaconda-cloud": {},
  "kernelspec": {
   "display_name": "Python [default]",
   "language": "python",
   "name": "python3"
  },
  "language_info": {
   "codemirror_mode": {
    "name": "ipython",
    "version": 3
   },
   "file_extension": ".py",
   "mimetype": "text/x-python",
   "name": "python",
   "nbconvert_exporter": "python",
   "pygments_lexer": "ipython3",
   "version": "3.5.2"
  }
 },
 "nbformat": 4,
 "nbformat_minor": 1
}
